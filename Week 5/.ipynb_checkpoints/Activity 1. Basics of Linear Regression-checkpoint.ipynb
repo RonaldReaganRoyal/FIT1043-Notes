{
 "cells": [
  {
   "cell_type": "markdown",
   "metadata": {},
   "source": [
    "<h1>Week 5 Laboratory Activity</h1>"
   ]
  },
  {
   "cell_type": "markdown",
   "metadata": {},
   "source": [
    "<div style = \"text-align: justify\">\n",
    "In the past few weeks, you have experienced some of the different skills needed as a Data Scientist, these are mainly on collecting data, wrangling data and presenting the data through descriptive statistics and visualization. From Week 5 to Week 7, we will be doing some activities relating to the basics of Machine Learning. Many of the principles and theories of statistical machine learning are about the behaviour of different learning algorithms with more, or with less data. We can demonstrate one of the fundamental machine learning algorithms, Linear Regression, using functions of one variable and we can examine these behaviours by changing our data and our models. This exploration gives us a guided introduction to the concepts behind the theory. In this week’s activity, you need to explore the linear regression and you are encouraged to have open discussions on the Moodle Forums (or on Slack). The activities are separated into 3 topics: \n",
    "<br>\n",
    "<br>\n",
    "Activity 1: Examines basics to linear algorithms with an example.<br>\n",
    "Activity 2: Examines linear regression and the generation of noisy data from a \"true\" model.<br>\n",
    "Activity 3: Examines linear regression fitting different orders of the polynomial.</div>"
   ]
  },
  {
   "cell_type": "markdown",
   "metadata": {},
   "source": [
    "# Activity 1: Introduction\n",
    "Machine Learning (ML) is a method of data analysis to perform a specific task based on the\n",
    "existence of patterns in data and hence infer (predict) some outcome, instead of having\n",
    "explicit instructions. The statistics needed for this is called inferential statistics, as opposed\n",
    "to descriptive statistics that you have been introduced to. This field is considered as a\n",
    "subset of the Pattern Recognition field.\n",
    "Detecting patterns is an important task in Machine Learning, and it is usually the first step\n",
    "needed. Much like how we (humans) look at descriptive statistics to get an idea of what we\n",
    "can infer from it. Let’s start by looking at patterns.\n"
   ]
  },
  {
   "cell_type": "markdown",
   "metadata": {},
   "source": [
    "First of course we will be starting with library imports."
   ]
  },
  {
   "cell_type": "code",
   "execution_count": 1,
   "metadata": {},
   "outputs": [],
   "source": [
    "import pandas as pd\n",
    "import random # added for data generation\n",
    "import matplotlib.pyplot as plt\n",
    "from copy import deepcopy\n",
    "%matplotlib inline"
   ]
  },
  {
   "cell_type": "markdown",
   "metadata": {},
   "source": [
    "Assume you have the following dataset (in a DataFrame form) about information of age and\n",
    "income of 40 people."
   ]
  },
  {
   "cell_type": "code",
   "execution_count": 2,
   "metadata": {},
   "outputs": [
    {
     "data": {
      "text/html": [
       "<div>\n",
       "<style scoped>\n",
       "    .dataframe tbody tr th:only-of-type {\n",
       "        vertical-align: middle;\n",
       "    }\n",
       "\n",
       "    .dataframe tbody tr th {\n",
       "        vertical-align: top;\n",
       "    }\n",
       "\n",
       "    .dataframe thead th {\n",
       "        text-align: right;\n",
       "    }\n",
       "</style>\n",
       "<table border=\"1\" class=\"dataframe\">\n",
       "  <thead>\n",
       "    <tr style=\"text-align: right;\">\n",
       "      <th></th>\n",
       "      <th>Age</th>\n",
       "      <th>Income</th>\n",
       "    </tr>\n",
       "  </thead>\n",
       "  <tbody>\n",
       "    <tr>\n",
       "      <th>0</th>\n",
       "      <td>20</td>\n",
       "      <td>2400</td>\n",
       "    </tr>\n",
       "    <tr>\n",
       "      <th>1</th>\n",
       "      <td>21</td>\n",
       "      <td>2500</td>\n",
       "    </tr>\n",
       "    <tr>\n",
       "      <th>2</th>\n",
       "      <td>22</td>\n",
       "      <td>2600</td>\n",
       "    </tr>\n",
       "    <tr>\n",
       "      <th>3</th>\n",
       "      <td>23</td>\n",
       "      <td>2700</td>\n",
       "    </tr>\n",
       "    <tr>\n",
       "      <th>4</th>\n",
       "      <td>24</td>\n",
       "      <td>2800</td>\n",
       "    </tr>\n",
       "  </tbody>\n",
       "</table>\n",
       "</div>"
      ],
      "text/plain": [
       "   Age  Income\n",
       "0   20    2400\n",
       "1   21    2500\n",
       "2   22    2600\n",
       "3   23    2700\n",
       "4   24    2800"
      ]
     },
     "execution_count": 2,
     "metadata": {},
     "output_type": "execute_result"
    }
   ],
   "source": [
    "df = pd.DataFrame(\n",
    "{'Age' : [20,21,22,23,24,25,26,27,28,29,31,32,33,34,35,36,37,38,39,40],\n",
    "'Income' :[2400,2500,2600,2700,2800,2900,3000,3100,3200,3300,3500,\n",
    "3600,3700,3800,3900,4000,4100,4200,4300,4400]}\n",
    ")\n",
    "df.head()"
   ]
  },
  {
   "cell_type": "markdown",
   "metadata": {},
   "source": [
    "Do you see any relation between Age and Income? We have already learned how to\n",
    "create different plots. Let's use a plot which can show the relation between two variables. By\n",
    "relation we mean how the values of Income would change with the changes in the values\n",
    "of Age. We can show this relationship with a Scatter plot. Let's show a scatter plot of Age\n",
    "versus Income.\n"
   ]
  },
  {
   "cell_type": "code",
   "execution_count": 3,
   "metadata": {},
   "outputs": [
    {
     "data": {
      "image/png": "[encoded data removed]",
      "text/plain": [
       "<Figure size 432x288 with 1 Axes>"
      ]
     },
     "metadata": {
      "needs_background": "light"
     },
     "output_type": "display_data"
    }
   ],
   "source": [
    "plt.scatter(df['Age'],df['Income'])\n",
    "plt.xlabel('Age')\n",
    "plt.ylabel('Income')\n",
    "plt.show()"
   ]
  },
  {
   "cell_type": "markdown",
   "metadata": {},
   "source": [
    "Considering the plot above, can you estimate what the Income of a 41 year old is?<br>\n",
    "A. 2000<br>\n",
    "B. 3400<br>\n",
    "C. 3500<br>\n",
    "D. 4000<br>\n",
    "<b>E. 4500</b>"
   ]
  },
  {
   "cell_type": "markdown",
   "metadata": {},
   "source": [
    "If you chose 4500, you are right! As you can see by increasing the age values, the income\n",
    "values also increase as well. Congratulations! You have detected the general pattern in this\n",
    "data set. The pattern in this data set is simple, as you increase the Age, Income also\n",
    "increases.\n"
   ]
  },
  {
   "cell_type": "markdown",
   "metadata": {},
   "source": [
    "Now let us change the data set slightly and add information of other people from a different\n",
    "country to see if the general pattern changes or not.\n"
   ]
  },
  {
   "cell_type": "code",
   "execution_count": 4,
   "metadata": {},
   "outputs": [],
   "source": [
    "dfNewCountry= pd.DataFrame(\n",
    "{'Age' : [21,27,28,39,35],\n",
    "'Income' :[2550,1600,1600,2300,3800]}\n",
    ")\n",
    "dfAllCountries=pd.concat([df,dfNewCountry])"
   ]
  },
  {
   "cell_type": "markdown",
   "metadata": {},
   "source": [
    "Before we proceed, we have introduced a “new” pandas function called concat(). What\n",
    "does it do? It merges the two dataframes on the row axis. Compare this with the merge()\n",
    "function. Let’s now plot the scatter plot."
   ]
  },
  {
   "cell_type": "markdown",
   "metadata": {},
   "source": [
    "### Difference between ```.merge()``` and ```.concat()```"
   ]
  },
  {
   "cell_type": "markdown",
   "metadata": {},
   "source": [
    "This link here actually provides a very nice difference between merge and concat. Tldr: merge is used when you want the intersect of both datasets, whereas concat will just append the df together regardless, even if there's repeated columns/rows depending on axis used. \n",
    "\n",
    "https://stackoverflow.com/questions/38256104/differences-between-merge-and-concat-in-pandas#:~:text=concat()%20simply%20stacks%20multiple,aligned%20rows%20of%20each%20DataFrame%20."
   ]
  },
  {
   "cell_type": "code",
   "execution_count": 5,
   "metadata": {},
   "outputs": [
    {
     "data": {
      "image/png": "[encoded data removed]",
      "text/plain": [
       "<Figure size 432x288 with 1 Axes>"
      ]
     },
     "metadata": {
      "needs_background": "light"
     },
     "output_type": "display_data"
    }
   ],
   "source": [
    "plt.scatter(dfAllCountries['Age'],dfAllCountries['Income'])\n",
    "plt.xlabel('Age')\n",
    "plt.title('Age vs Income in two countries')\n",
    "plt.ylabel('Income')\n",
    "plt.show()"
   ]
  },
  {
   "cell_type": "markdown",
   "metadata": {},
   "source": [
    "Again, try to answer this question. Considering the plot above, can you guess which of the\n",
    "following Income would be the income of a person who is 41?<br>\n",
    "A. 2000 <br>\n",
    "B. 3400 <br>\n",
    "C. 3500<br>\n",
    "D. 4000<br>\n",
    "<b>E. 4500</b>"
   ]
  },
  {
   "cell_type": "markdown",
   "metadata": {},
   "source": [
    "If your answer is 4500, you are right! Otherwise, please bear in your mind the following tip:<br>\n",
    "<ul><li>In ML, Pattern refers to a general pattern and we ignore the minority of data points\n",
    "which have different values from the majority when we detect the pattern. In the plot\n",
    "'Age vs Income in two countries', we ignore information of 3 people whose income\n",
    "values were far from the rest. We just determine the pattern based on the general\n",
    "increasing relation between values of Age and Income. It seems that by detecting the\n",
    "    general pattern, we are able to predict the income of people of varying ages.</li></ul>"
   ]
  },
  {
   "cell_type": "markdown",
   "metadata": {},
   "source": [
    "In the plot above, Age is called an independent variable or predictor whereas Income is a\n",
    "dependent variable or responding variable. We use the independent variable to predict the\n",
    "value of the dependent variable, e.g, we use variable 'Age' (independent variable) to predict\n",
    "variable 'Income' (dependent Variable)."
   ]
  },
  {
   "cell_type": "markdown",
   "metadata": {},
   "source": [
    "What you did to guess the income of a person who has 41, was an example of prediction.\n",
    "You took a look at the data and understood the relation between Age and Income for those\n",
    "who are between 18 and 40 and predicted the Income of a person who is 41. That's exactly\n",
    "what ML does. We give a dataset to a machine learning algorithm, it finds general patterns\n",
    "(by building models) and does predictions based on the given dataset. Then, the model\n",
    "predicts the income on the detected general pattern.\n"
   ]
  },
  {
   "cell_type": "markdown",
   "metadata": {},
   "source": [
    "### Introduction to Linear Regression"
   ]
  },
  {
   "cell_type": "markdown",
   "metadata": {},
   "source": [
    "Regression for continuous dependent variables with the help of independent variables is\n",
    "called Linear Regression. This is as opposed to Logistic Regression where it is used to\n",
    "predict the categorical dependent variable with the help of independent variables. Logistic\n",
    "regression is used mainly for classification. We will look into classification later.<br><br>\n",
    "Let’s take a gentle path to understanding linear regression. First, create a data set and then\n",
    "we define a linear function to represent the general pattern between dependent and\n",
    "independent variables"
   ]
  },
  {
   "cell_type": "code",
   "execution_count": 6,
   "metadata": {},
   "outputs": [
    {
     "data": {
      "text/plain": [
       "[2, 9, 3, 25, 14, 28, 4, 29, 13, 18, 20, 11, 19, 22, 27, 15, 6, 24, 21, 23]"
      ]
     },
     "execution_count": 6,
     "metadata": {},
     "output_type": "execute_result"
    }
   ],
   "source": [
    "random.seed(123) #setting a seed to 123 and using the same range/xrange, with same k size youll get the same sequence\n",
    "indVar=random.sample(range(1, 30), 20)\n",
    "indVar"
   ]
  },
  {
   "cell_type": "markdown",
   "metadata": {},
   "source": [
    "The first thing to note in any programming is that when we use functions to generate random\n",
    "numbers, the generation of the random numbers are actually pseudo random. What this\n",
    "means, in short, is that computers generate the random numbers using some mathematical\n",
    "function and are based on a starting point. If this starting point is known, then the “random”\n",
    "numbers generated can be reproduced. This is where the term setting the seed number\n",
    "means in computing. Hence, to ensure that all of you have the same random numbers\n",
    "generated, we set the seed for the random library. Remember, you imported the library\n",
    "earlier and we set it by calling random.seed(123).\n",
    "<br>\n",
    "<br>\n",
    "Extra Note: Since you can use a seed to generate a sequence of pseudorandom numbers, however, can you use the sequence of pseudorandom numbers to generate the seed? Hmmm https://stackoverflow.com/questions/64311236/how-to-find-the-seed-of-the-random-number-generator"
   ]
  },
  {
   "cell_type": "markdown",
   "metadata": {},
   "source": [
    "Let’s create a set of dependent variables that are of the same values, for illustration\n",
    "purposes only."
   ]
  },
  {
   "cell_type": "code",
   "execution_count": 7,
   "metadata": {},
   "outputs": [],
   "source": [
    "depVar = indVar[:] \n",
    "#same as doing...\n",
    "depVar = deepcopy(indVar)"
   ]
  },
  {
   "cell_type": "markdown",
   "metadata": {},
   "source": [
    "Now we have 2 sets of data points, where the independent and dependent data are the\n",
    "same. The purpose of this is purely for illustration only. Let’s plot the data using a scatter\n",
    "plot to view it. <br>\n",
    "However, realistically speaking a graph of <b>Age against years passed since birth</b> will of course give this graph."
   ]
  },
  {
   "cell_type": "code",
   "execution_count": 8,
   "metadata": {},
   "outputs": [
    {
     "data": {
      "image/png": "[encoded data removed]",
      "text/plain": [
       "<Figure size 432x288 with 1 Axes>"
      ]
     },
     "metadata": {
      "needs_background": "light"
     },
     "output_type": "display_data"
    }
   ],
   "source": [
    "plt.scatter(indVar,depVar)\n",
    "plt.xlabel(\"Independant Variable\")\n",
    "plt.ylabel(\"Dependant Variable\")\n",
    "plt.show()"
   ]
  },
  {
   "cell_type": "markdown",
   "metadata": {},
   "source": [
    "Let’s plot a line across those points.\n"
   ]
  },
  {
   "cell_type": "code",
   "execution_count": 9,
   "metadata": {},
   "outputs": [
    {
     "data": {
      "image/png": "[encoded data removed]",
      "text/plain": [
       "<Figure size 432x288 with 1 Axes>"
      ]
     },
     "metadata": {
      "needs_background": "light"
     },
     "output_type": "display_data"
    }
   ],
   "source": [
    "plt.scatter(indVar,depVar)\n",
    "plt.xlabel(\"Independant Variable\")\n",
    "plt.ylabel(\"Dependant Variable\")\n",
    "plt.plot(indVar,depVar,'r-', linewidth=3) # red line, of thickness 3\n",
    "plt.show()"
   ]
  },
  {
   "cell_type": "markdown",
   "metadata": {},
   "source": [
    "What we are trying to illustrate so far is that if the numbers are accurately related in a linear\n",
    "manner, we can draw a straight line through it. Let’s now assume that this relationship is the\n",
    "true relationship between the independent and dependent variables. Let’s call these the true\n",
    "numbers."
   ]
  },
  {
   "cell_type": "code",
   "execution_count": 10,
   "metadata": {},
   "outputs": [],
   "source": [
    "trueX = indVar[:]\n",
    "trueY = depVar[:]"
   ]
  },
  {
   "cell_type": "markdown",
   "metadata": {},
   "source": [
    "Let’s generate what we may find as real data (again, this is just simulated). Usually, in any\n",
    "data collection, the data that is recorded may not be the exact figure, for example\n",
    "measurements from analog devices, or measuring non-digital measures, or measurements\n",
    "that are recorded manually by humans. We simulate this by adding some noise (noise in\n",
    "this case means additional data that are random (unpredictable) and carries no real useful\n",
    "information)."
   ]
  },
  {
   "cell_type": "markdown",
   "metadata": {},
   "source": [
    "Let’s firstly add additional data points to our independent variable. You may want to turn off prettyprint and can be done so by typing ```%pprint``` as everytime u run ```%pprint``` will toggle it on and off\n",
    "<br>\n",
    "Further reading: https://stackoverflow.com/questions/19010036/how-to-make-ipython-output-a-list-without-line-breaks-after-elements#:~:text=If%20you%20want%20to%20turn,False%20to%20the%20profile%20file.&text=Start%20ipython%20with%20%2D%2Dno%2Dpprint%20option.\n"
   ]
  },
  {
   "cell_type": "code",
   "execution_count": 11,
   "metadata": {},
   "outputs": [
    {
     "name": "stdout",
     "output_type": "stream",
     "text": [
      "Pretty printing has been turned OFF\n"
     ]
    },
    {
     "data": {
      "text/plain": [
       "[2, 9, 3, 25, 14, 28, 4, 29, 13, 18, 20, 11, 19, 22, 27, 15, 6, 24, 21, 23, 6, 1, 14, 25, 3, 20, 13, 26, 28, 11]"
      ]
     },
     "execution_count": 11,
     "metadata": {},
     "output_type": "execute_result"
    }
   ],
   "source": [
    "noiseXVals=random.sample(range(1, 30), 10)\n",
    "indVar += noiseXVals\n",
    "%pprint #turn this off lmao turning it on is ugly \n",
    "indVar"
   ]
  },
  {
   "cell_type": "markdown",
   "metadata": {},
   "source": [
    "We now have 30 data points for our independent variable. You can have a look at the\n",
    "indVar values. What we need to do now is to add another 10 values to our dependent\n",
    "variables, depVar but the values should be not exactly that of the new independent\n",
    "variables but values that are slightly different. What we are going to do here is to pick those\n",
    "new values from noiseXVals using the for “x in noiseXVals” and add some minor noise\n",
    "to it."
   ]
  },
  {
   "cell_type": "code",
   "execution_count": 12,
   "metadata": {},
   "outputs": [
    {
     "name": "stdout",
     "output_type": "stream",
     "text": [
      "[8, -7, 5, 26, -5, 25, 8, 23, 26, 9]\n"
     ]
    }
   ],
   "source": [
    "noiseYVals=[x+round(random.uniform(-10,6)) for x in noiseXVals]\n",
    "print(noiseYVals)\n",
    "depVar.extend(noiseYVals)"
   ]
  },
  {
   "cell_type": "markdown",
   "metadata": {},
   "source": [
    "Before you execute the extend(), you may want to have a look at the values of\n",
    "noiseXVals and noiseYVals. The random.uniform() function, creates floating\n",
    "point numbers between -10 and 8 (you can change the parameters if you like) and the\n",
    "round() function just rounds up the number to the nearest integer."
   ]
  },
  {
   "cell_type": "markdown",
   "metadata": {},
   "source": [
    "You might notice that the range of -10 to 6, well there's actually a higher chance to get the negative values, meaning the x values will be reduced more in comparison, hence creating \"noise\""
   ]
  },
  {
   "cell_type": "markdown",
   "metadata": {},
   "source": [
    "Now, we replot the graph and have a look at it"
   ]
  },
  {
   "cell_type": "code",
   "execution_count": 13,
   "metadata": {},
   "outputs": [
    {
     "data": {
      "image/png": "[encoded data removed]",
      "text/plain": [
       "<Figure size 432x288 with 1 Axes>"
      ]
     },
     "metadata": {
      "needs_background": "light"
     },
     "output_type": "display_data"
    }
   ],
   "source": [
    "plt.scatter(indVar,depVar)\n",
    "# the red line represents the true data\n",
    "plt.plot(trueX,trueY,'r-', linewidth=3)\n",
    "plt.show()"
   ]
  },
  {
   "cell_type": "markdown",
   "metadata": {},
   "source": [
    "Assuming that the new dots are the data that you have. The red straight line now doesn’t\n",
    "seem to be the best fit. The red line seems to be a bit higher than it should be. Are you able\n",
    "to find a mathematical function which represents the general pattern in your data set?\n",
    "What if data is scattered more?! Let us add more noise to this data set by following\n",
    "commands and see if we can still represent the general trend by a line."
   ]
  },
  {
   "cell_type": "code",
   "execution_count": 14,
   "metadata": {},
   "outputs": [
    {
     "data": {
      "image/png": "[encoded data removed]",
      "text/plain": [
       "<Figure size 432x288 with 1 Axes>"
      ]
     },
     "metadata": {
      "needs_background": "light"
     },
     "output_type": "display_data"
    }
   ],
   "source": [
    "noiseXVals=random.sample(range(1, 30), 25)\n",
    "indVar.extend(noiseXVals)\n",
    "\n",
    "noiseYVals=[x+round(random.uniform(-10,6)) for x in noiseXVals]\n",
    "depVar.extend(noiseYVals)\n",
    "\n",
    "plt.scatter(indVar,depVar)\n",
    "plt.plot(trueX,trueY,'r-', linewidth=3)\n",
    "plt.show()"
   ]
  },
  {
   "cell_type": "markdown",
   "metadata": {},
   "source": [
    "Do you think that the red line which you plotted is the best line? Let’s plot another line which\n",
    "has a y-axis value that is smaller (by 1.5).\n",
    "\n"
   ]
  },
  {
   "cell_type": "code",
   "execution_count": 15,
   "metadata": {},
   "outputs": [
    {
     "data": {
      "image/png": "[encoded data removed]",
      "text/plain": [
       "<Figure size 432x288 with 1 Axes>"
      ]
     },
     "metadata": {
      "needs_background": "light"
     },
     "output_type": "display_data"
    }
   ],
   "source": [
    "trueYNew=[x-1.5 for x in trueY]\n",
    "plt.scatter(indVar,depVar)\n",
    "plt.plot(trueX,trueY,'r-', linewidth=3)\n",
    "plt.plot(trueX,trueYNew,'g-', linewidth=3)\n",
    "plt.show()"
   ]
  },
  {
   "cell_type": "markdown",
   "metadata": {},
   "source": [
    "Does the green line look like a better fit? How can you evaluate it?"
   ]
  },
  {
   "cell_type": "markdown",
   "metadata": {},
   "source": [
    "## Linear Regression in Python"
   ]
  },
  {
   "cell_type": "markdown",
   "metadata": {},
   "source": [
    "We have taken great lengths to get a non-mathematical approach to understanding the best\n",
    "fit, with the high level idea of what a linear regression is like. Now, we are going to look at a\n",
    "library in Python that we can use to create linear regression models. In your week 1\n",
    "lectures, we mentioned that the following are the basic libraries:"
   ]
  },
  {
   "cell_type": "markdown",
   "metadata": {},
   "source": [
    "<ul><li>Numpy</li><li>Pandas</li><li>MatPlotLib</li><li>SciPy</li></ul>"
   ]
  },
  {
   "cell_type": "code",
   "execution_count": 16,
   "metadata": {},
   "outputs": [],
   "source": [
    "from scipy.stats import linregress"
   ]
  },
  {
   "cell_type": "markdown",
   "metadata": {},
   "source": [
    "The function scipy.stats.linregress() returns 5 values, and they are the slope (of\n",
    "the linear regression line), the intercept (where the line crosses on the y-axis), the r-value\n",
    "(the correlation - we called this the r-value as you would have seen in our earlier lectures),\n",
    "the p-value (the statistical relevance value) and the standard error (which is the computed\n",
    "error based on the estimated gradient). Some of you will have many questions on this, but\n",
    "let’s leave it to another course for the time being (you can actually read a lot about this). We\n",
    "assign the returned values to 5 variables after calling the linregress() function by\n",
    "providing the independent and dependent variables."
   ]
  },
  {
   "cell_type": "code",
   "execution_count": 17,
   "metadata": {},
   "outputs": [],
   "source": [
    "slope, intercept, r_value, p_value, std_err = linregress(indVar,depVar)"
   ]
  },
  {
   "cell_type": "markdown",
   "metadata": {},
   "source": [
    "You can view the values returned as:"
   ]
  },
  {
   "cell_type": "code",
   "execution_count": 18,
   "metadata": {},
   "outputs": [
    {
     "name": "stdout",
     "output_type": "stream",
     "text": [
      "slope: 1.108712 intercept: -2.787204\n",
      "r-value: 0.932796\n",
      "p-value: 0.000000\n"
     ]
    }
   ],
   "source": [
    "print(\"slope: %f intercept: %f\" % (slope, intercept))\n",
    "print(\"r-value: %f\" % r_value)\n",
    "print(\"p-value: %f\" % p_value)"
   ]
  },
  {
   "cell_type": "markdown",
   "metadata": {},
   "source": [
    "With the slope and intercept, we can compute the values that we needed for the new line\n",
    "that is the result of the linear regression function. We use the “for xi in indVar“ to go\n",
    "through each value of the indVar to obtain the corresponding points for the line."
   ]
  },
  {
   "cell_type": "code",
   "execution_count": 20,
   "metadata": {},
   "outputs": [
    {
     "data": {
      "image/png": "[encoded data removed]",
      "text/plain": [
       "<Figure size 432x288 with 1 Axes>"
      ]
     },
     "metadata": {
      "needs_background": "light"
     },
     "output_type": "display_data"
    }
   ],
   "source": [
    "line = [slope*xi + intercept for xi in indVar]\n",
    "\n",
    "# our 'raw' data\n",
    "plt.scatter(indVar, depVar)\n",
    "# our earlier manual estimated line (in green)\n",
    "plt.plot(trueX,trueYNew,'g-', linewidth=1)\n",
    "# the line created by the linregress() function (in blue)\n",
    "plt.plot(indVar,line,'b-', linewidth=1)\n",
    "plt.show()"
   ]
  },
  {
   "cell_type": "markdown",
   "metadata": {},
   "source": [
    "You will see the best line is slightly different from the earlier estimated line that we had\n",
    "earlier. You have completed your first linear regression, the very first step towards Machine\n",
    "Learning."
   ]
  },
  {
   "cell_type": "markdown",
   "metadata": {},
   "source": [
    "Practice 1:<br>\n",
    "Create a linear regression model for the following data, which is a data for baseball runs by\n",
    "the different batters. You will firstly need to determine which variable should be considered\n",
    "as independent and which variable should be considered as dependent."
   ]
  },
  {
   "cell_type": "code",
   "execution_count": 21,
   "metadata": {},
   "outputs": [],
   "source": [
    "df = pd.DataFrame(\n",
    "{'Name' : ['Mike','Aaron','Brad','Steve','George','Mitchell',\n",
    "'Shaun','Glenn','Pat','Robert','David'],\n",
    "'Age' : [22, 25, 25, 26, 28, 28, 31, 32, 33, 39, 44],\n",
    "'Runs' :[1000, 980, 900, 900, 828, 700, 672, 662, 655, 600, 557]}\n",
    ")"
   ]
  },
  {
   "cell_type": "markdown",
   "metadata": {},
   "source": [
    "Answer: Very obviously, we will need to use the Age to determine the Runs, so our independant variable is Age, whereas the Dependant variable is Runs. This is because it is very evident that Runs depend on Age. Name would not have any affect on the Age and Runs whatsoever."
   ]
  },
  {
   "cell_type": "markdown",
   "metadata": {},
   "source": [
    "Practice 2:<br>\n",
    "Create another linear regression model using our earlier DataFrame dfAllCountries?"
   ]
  },
  {
   "cell_type": "code",
   "execution_count": 23,
   "metadata": {},
   "outputs": [
    {
     "data": {
      "text/plain": [
       "[<matplotlib.lines.Line2D object at 0x000001C968117AC0>]"
      ]
     },
     "execution_count": 23,
     "metadata": {},
     "output_type": "execute_result"
    },
    {
     "data": {
      "image/png": "[encoded data removed]",
      "text/plain": [
       "<Figure size 432x288 with 1 Axes>"
      ]
     },
     "metadata": {
      "needs_background": "light"
     },
     "output_type": "display_data"
    }
   ],
   "source": [
    "plt.scatter(dfAllCountries['Age'], dfAllCountries['Income'])\n",
    "plt.xlabel('Age')\n",
    "plt.ylabel('Income')\n",
    "slope, intercept, r_value, p_value, std_err = linregress(dfAllCountries['Age'],\n",
    "                                                         dfAllCountries['Income'])\n",
    "line = [slope * x + intercept for x in dfAllCountries['Age']]\n",
    "plt.plot(dfAllCountries['Age'], line)"
   ]
  },
  {
   "cell_type": "markdown",
   "metadata": {},
   "source": [
    "Practice 3:<br> \n",
    "Do you think that you can use your model to predict income of a 70 years old person? Why\n",
    "or why not?"
   ]
  },
  {
   "cell_type": "code",
   "execution_count": 24,
   "metadata": {},
   "outputs": [
    {
     "name": "stdout",
     "output_type": "stream",
     "text": [
      "slope: 88.402062 intercept: 541.938144\n",
      "r-value: 0.705929\n",
      "p-value: 0.000081\n"
     ]
    }
   ],
   "source": [
    "print(\"slope: %f intercept: %f\" % (slope, intercept))\n",
    "print(\"r-value: %f\" % r_value)\n",
    "print(\"p-value: %f\" % p_value)"
   ]
  },
  {
   "cell_type": "markdown",
   "metadata": {},
   "source": [
    "Answer: Personally, I do not think so. First of all the data we have is rather limited. There are many other factors such as retirement that will come into play when you talk about income. So no, even if the r-value and p-value is rather nice. <br>Further reading: https://www.researchgate.net/post/What_is_the_minimum_value_of_correlation_coefficient_to_prove_the_existence_of_the_accepted_relationship_between_scores_of_two_of_more_tests"
   ]
  }
 ],
 "metadata": {
  "kernelspec": {
   "display_name": "Python 3",
   "language": "python",
   "name": "python3"
  },
  "language_info": {
   "codemirror_mode": {
    "name": "ipython",
    "version": 3
   },
   "file_extension": ".py",
   "mimetype": "text/x-python",
   "name": "python",
   "nbconvert_exporter": "python",
   "pygments_lexer": "ipython3",
   "version": "3.8.5"
  }
 },
 "nbformat": 4,
 "nbformat_minor": 4
}
